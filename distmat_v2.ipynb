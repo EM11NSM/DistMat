{
 "cells": [
  {
   "cell_type": "markdown",
   "id": "66b95c9d-477c-4bee-beeb-246737f678b9",
   "metadata": {},
   "source": [
    "## Distance Matrix"
   ]
  },
  {
   "cell_type": "code",
   "execution_count": null,
   "id": "1aa459f0-3e82-4bc0-bdb8-6f2b44349d46",
   "metadata": {},
   "outputs": [],
   "source": [
    "#A tool to generate pairwise distances between atoms in a molecule.\n",
    "#Useful if you would want to calculate the shortest and longest distances in a molecule.\n",
    "#N.B: SMID REQUIRES an ensemble of 3D conformations that needs to be saved in the /Multiconformer_db folder before running the script"
   ]
  },
  {
   "cell_type": "markdown",
   "id": "8e78d3f7-0cb6-4340-936c-c7adcb51b762",
   "metadata": {},
   "source": [
    "#### Please attribute back to Amin Aghamohammadi . Thank you. "
   ]
  },
  {
   "cell_type": "code",
   "execution_count": null,
   "id": "0ef909fa-6858-41c2-abdd-e2c714c70aaa",
   "metadata": {},
   "outputs": [],
   "source": [
    "!pip install ase numpy"
   ]
  },
  {
   "cell_type": "code",
   "execution_count": null,
   "id": "779a4026-5e7f-41fc-987b-cd34b9389a14",
   "metadata": {},
   "outputs": [],
   "source": [
    "import sys\n",
    "import os\n",
    "import glob\n",
    "import numpy as np\n",
    "import ase.io\n",
    "import io"
   ]
  },
  {
   "cell_type": "code",
   "execution_count": null,
   "id": "ed5e356a-aa4f-45c6-9cc4-aaab2050de88",
   "metadata": {},
   "outputs": [],
   "source": [
    "# Confirm the current working directory by running this cell.\n",
    "Notebook_location= os.getcwd()\n",
    "Notebook_location"
   ]
  },
  {
   "cell_type": "code",
   "execution_count": null,
   "id": "af169d8e-d652-4598-bdc0-a3d33a28327b",
   "metadata": {},
   "outputs": [],
   "source": [
    "# Walk through the Multiconformer_db folder to find the SDF file.\n",
    "folderwalk = os.walk('Multiconformer_db')\n",
    "O1F = next(folderwalk)[2][0]\n",
    "O1F"
   ]
  },
  {
   "cell_type": "code",
   "execution_count": null,
   "id": "3110fac4-d90d-497d-978f-99842716066a",
   "metadata": {},
   "outputs": [],
   "source": [
    "# Grabs the filname for the SDF.\n",
    "O2F= os.path.splitext(O1F)[0]\n",
    "print(O2F)"
   ]
  },
  {
   "cell_type": "code",
   "execution_count": null,
   "id": "093abed2-fe5a-4512-a364-19ea7d2330af",
   "metadata": {},
   "outputs": [],
   "source": [
    "# A function to split the multiconformer SDF into separate SD files, placing them in the runtime_folder.\n",
    "def split_sdf(input_file, max_structures_per_file=1):    \n",
    "    with open(input_file, 'r') as f:\n",
    "        sdf_data = f.read().strip().split(\"$$$$\\n\")\n",
    "    num_output_files = (len(sdf_data) // max_structures_per_file) + 1\n",
    "    sdf_chunks = [sdf_data[i:i+max_structures_per_file] for i in range(0, len(sdf_data), max_structures_per_file)]\n",
    "    for i, chunk in enumerate(sdf_chunks):\n",
    "        output_file = f\"runtime_folder/{O2F}_{i + 1}.sdf\"\n",
    "        with open(output_file, 'w') as f_out:\n",
    "            f_out.write(\"\".join(chunk))"
   ]
  },
  {
   "cell_type": "code",
   "execution_count": null,
   "id": "a198f998-b7c9-4fde-b529-9fd61f24e44f",
   "metadata": {},
   "outputs": [],
   "source": [
    "if __name__ == \"__main__\":\n",
    "    input_sdf_file = \"/Multiconformer_db/\"+f\"{O2F}.sdf\"  \n",
    "    max_structures_per_file = 1  \n",
    "    split_sdf(input_sdf_file, max_structures_per_file)"
   ]
  },
  {
   "cell_type": "code",
   "execution_count": null,
   "id": "47a9b6f4-d155-487f-a941-49d71ecf9b01",
   "metadata": {},
   "outputs": [],
   "source": [
    "# Iterates through each SD file and calculates all the distances.\n",
    "# .max() function grabs the maximum distance.\n",
    "# Saves a txt file with the maximum distance.\n",
    "directory = '/runtime_folder'\n",
    "for filename in glob.iglob(f'{directory}/*'):\n",
    "    conf=ase.io.read(filename)\n",
    "    dm=conf.get_all_distances()\n",
    "    maxdm=dm.max()\n",
    "    with open('runtime_folder/calc.txt', 'a') as f:\n",
    "        print(maxdm, file=f)"
   ]
  },
  {
   "cell_type": "code",
   "execution_count": null,
   "id": "84157218-50ed-4340-9a17-88eb7da00dae",
   "metadata": {},
   "outputs": [],
   "source": [
    "with open('runtime_folder/calc.txt') as file:\n",
    "    max_imd = [line.rstrip() for line in file]"
   ]
  },
  {
   "cell_type": "code",
   "execution_count": null,
   "id": "4eb6318a-3b3d-40ae-ab93-06ff5a5f7f85",
   "metadata": {},
   "outputs": [],
   "source": [
    "smid=min(max_imd)\n",
    "print(smid)"
   ]
  },
  {
   "cell_type": "code",
   "execution_count": null,
   "id": "72684c47-7194-42cf-8883-dd706b4b1ab8",
   "metadata": {},
   "outputs": [],
   "source": [
    "# Caution! Running this will REMOVE all the files in the runtime_folder! \n",
    "contents = glob.glob('runtime_folder/*')\n",
    "for f in contents:\n",
    "    os.remove(f)"
   ]
  },
  {
   "cell_type": "code",
   "execution_count": null,
   "id": "942190fd-a6d0-49f8-8a4f-2f312cc12df9",
   "metadata": {},
   "outputs": [],
   "source": [
    "# Writes out a final txt file with the name of SDF followed by SMID. \n",
    "with open('calculated.txt', 'a') as f:\n",
    "    print(O2F,',',smid, file=f)"
   ]
  }
 ],
 "metadata": {
  "kernelspec": {
   "display_name": "Python 3 (ipykernel)",
   "language": "python",
   "name": "python3"
  },
  "language_info": {
   "codemirror_mode": {
    "name": "ipython",
    "version": 3
   },
   "file_extension": ".py",
   "mimetype": "text/x-python",
   "name": "python",
   "nbconvert_exporter": "python",
   "pygments_lexer": "ipython3",
   "version": "3.12.4"
  }
 },
 "nbformat": 4,
 "nbformat_minor": 5
}
